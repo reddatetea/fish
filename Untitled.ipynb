{
 "cells": [
  {
   "cell_type": "code",
   "execution_count": null,
   "id": "20a2a232",
   "metadata": {},
   "outputs": [],
   "source": [
    "#在实时流水账中，选择期间和供应商生成透视表，并批量自动打印！20210929\n",
    "import os\n",
    "import xlwings as xw\n",
    "import pandas as pd\n",
    "import openpyxl\n",
    "import easygui\n",
    "from openpyxl.utils import  get_column_letter,column_index_from_string\n",
    "import excelfastsetings\n",
    "import excelprint\n",
    "import sortbypinyin\n",
    "\n",
    "def toushiBiao(fname1,fname, ws_name, gongyingshangs,zhiziduan,hangziduan,jisuanfangsi,saixuanliezhi):\n",
    "    # fname1 = r'材料入库单.xlsx'\n",
    "    app = xw.App(visible = False,add_book = False)\n",
    "    wb = app.books.open(fname)\n",
    "    nwb = app.books.open(fname1)\n",
    "    for nws in nwb.sheets:\n",
    "        if nws.name == '入库':\n",
    "            ws_ruku = nwb.sheets['入库']\n",
    "            continue\n",
    "        else:\n",
    "            nws.delete()\n",
    "    ws = wb.sheets[ws_name]\n",
    "    values = ws.range('A1').expand('table').options(pd.DataFrame).value\n",
    "    max_row = values.shape[0] + 1\n",
    "\n",
    "    for gongyingshang in gongyingshangs:\n",
    "        filtered = values[\n",
    "            (values['期间'] == '{}'.format(saixuanliezhi)) & (values['供货单位'] == '{}'.format(gongyingshang))]\n",
    "        # print(fname, ws_name, zhiziduan,hangziduan, jisuanfangsi,saixuanliezhi)\n",
    "        pivottable = pd.pivot_table(filtered, values=zhiziduan, index=hangziduan, columns=None, aggfunc=jisuanfangsi,\n",
    "                                    fill_value=0, margins=True, margins_name='合计')\n",
    "        order = zhiziduan\n",
    "        pivottable = pivottable[order]\n",
    "        nws = ws_ruku.copy(before=ws_ruku)\n",
    "        nws.name = gongyingshang\n",
    "        nws.clear()\n",
    "        nws.range('A1').value = pivottable\n",
    "        nws.range('A1').value = '品名'\n",
    "        nws.range('D1').value = '不含税金额'\n",
    "        value1s = nws.range('A1').expand('table').options(pd.DataFrame).value\n",
    "        max_row = value1s.shape[0] + 1\n",
    "        for j in range(2, max_row):\n",
    "            nws.range('D{}'.format(j)).formula = '=ROUND(C{}/1.13,2)'.format(j)\n",
    "        last_row = max_row - 1\n",
    "        nws.range('D{}'.format(max_row)).formula = '=SUM(D2:D{})'.format(last_row)\n",
    "        nws.range('D{}'.format(j)).formula ='=round(C{}/1.13,2)'.format(j)\n",
    "        nws.range('B1').expand('down').number_format = '#,##0.00'\n",
    "        nws.range('D1').expand('down').number_format = '#,##0.00'\n",
    "        nws.range('C1').expand('down').number_format = '#,##0.00'\n",
    "        nws.autofit()\n",
    "    wb.close()\n",
    "    nwb.save(fname1)\n",
    "    nwb.close()\n",
    "    app.quit()\n",
    "    return fname1\n",
    "\n",
    "def  choiceJPrintGongyingshangs(fname, ws_name,saixuanliezhi):\n",
    "    df = pd.read_excel(fname,sheet_name=ws_name)\n",
    "    df = df[df['期间']==saixuanliezhi]\n",
    "    gongyingshangs = df['供货单位'].unique()\n",
    "    gongyingshangs = sortbypinyin.pinyinSort(gongyingshangs)     #供应商按拼音排序\n",
    "    msg = '请选择供应商'\n",
    "    gongyingshangs = easygui.multchoicebox(msg, title=msg, choices=gongyingshangs)\n",
    "    return gongyingshangs\n",
    "\n",
    "def main():\n",
    "    fname = r'F:\\a00nutstore\\006\\zw\\原材料实时流水账\\原材料实时流水账.xlsx'\n",
    "    ws_name = '流水账'\n",
    "    zhiziduan = ['入库数量', '入库金额']\n",
    "    hangziduan = 'cwName'\n",
    "    jisuanfangsi = 'sum'\n",
    "    saixuanliezhi = easygui.enterbox(msg = '请输入期间\"2022-01\"')\n",
    "    gongyingshangs = choiceJPrintGongyingshangs(fname,ws_name,saixuanliezhi)\n",
    "    fname1 = r'F:\\a00nutstore\\fishc\\材料入库单.xlsx'\n",
    "    fname1 = toushiBiao(fname1,fname, ws_name, gongyingshangs, zhiziduan, hangziduan, jisuanfangsi, saixuanliezhi)\n",
    "    excelfastsetings.fastseting(fname1,gongyingshangs)\n",
    "    excelprint.wsPrints(fname1,gongyingshangs)\n",
    "\n",
    "if __name__ == '__main__':\n",
    "    main()"
   ]
  },
  {
   "cell_type": "code",
   "execution_count": 1,
   "id": "fe62d89c",
   "metadata": {},
   "outputs": [],
   "source": [
    "#在实时流水账中，选择期间和供应商生成透视表，并批量自动打印！20210929\n",
    "import os\n",
    "import xlwings as xw\n",
    "import pandas as pd\n",
    "import openpyxl\n",
    "import easygui\n",
    "from openpyxl.utils import  get_column_letter,column_index_from_string\n",
    "import excelfastsetings\n",
    "import excelprint\n",
    "import sortbypinyin"
   ]
  },
  {
   "cell_type": "code",
   "execution_count": 2,
   "id": "641c9ae2",
   "metadata": {},
   "outputs": [
    {
     "data": {
      "text/plain": [
       "'2023-06'"
      ]
     },
     "execution_count": 2,
     "metadata": {},
     "output_type": "execute_result"
    }
   ],
   "source": [
    "fname = r'F:\\a00nutstore\\006\\zw\\原材料实时流水账\\原材料实时流水账.xlsx'\n",
    "ws_name = '流水账'\n",
    "zhiziduan = ['入库数量', '入库金额']\n",
    "hangziduan = 'cwName'\n",
    "jisuanfangsi = 'sum'\n",
    "saixuanliezhi = easygui.enterbox(msg = '请输入期间\"2022-01\"')\n",
    "saixuanliezhi"
   ]
  },
  {
   "cell_type": "code",
   "execution_count": 3,
   "id": "59c6c352",
   "metadata": {},
   "outputs": [],
   "source": [
    "def toushiBiao(fname1,fname, ws_name, gongyingshangs,zhiziduan,hangziduan,jisuanfangsi,saixuanliezhi):\n",
    "    # fname1 = r'材料入库单.xlsx'\n",
    "    app = xw.App(visible = False,add_book = False)\n",
    "    wb = app.books.open(fname)\n",
    "    nwb = app.books.open(fname1)\n",
    "    for nws in nwb.sheets:\n",
    "        if nws.name == '入库':\n",
    "            ws_ruku = nwb.sheets['入库']\n",
    "            continue\n",
    "        else:\n",
    "            nws.delete()\n",
    "    ws = wb.sheets[ws_name]\n",
    "    values = ws.range('A1').expand('table').options(pd.DataFrame).value\n",
    "    max_row = values.shape[0] + 1\n",
    "\n",
    "    for gongyingshang in gongyingshangs:\n",
    "        filtered = values[\n",
    "            (values['期间'] == '{}'.format(saixuanliezhi)) & (values['供货单位'] == '{}'.format(gongyingshang))]\n",
    "        # print(fname, ws_name, zhiziduan,hangziduan, jisuanfangsi,saixuanliezhi)\n",
    "        pivottable = pd.pivot_table(filtered, values=zhiziduan, index=hangziduan, columns=None, aggfunc=jisuanfangsi,\n",
    "                                    fill_value=0, margins=True, margins_name='合计')\n",
    "        order = zhiziduan\n",
    "        pivottable = pivottable[order]\n",
    "        nws = ws_ruku.copy(before=ws_ruku)\n",
    "        nws.name = gongyingshang\n",
    "        nws.clear()\n",
    "        nws.range('A1').value = pivottable\n",
    "        nws.range('A1').value = '品名'\n",
    "        nws.range('D1').value = '不含税金额'\n",
    "        value1s = nws.range('A1').expand('table').options(pd.DataFrame).value\n",
    "        max_row = value1s.shape[0] + 1\n",
    "        for j in range(2, max_row):\n",
    "            nws.range('D{}'.format(j)).formula = '=ROUND(C{}/1.13,2)'.format(j)\n",
    "        last_row = max_row - 1\n",
    "        nws.range('D{}'.format(max_row)).formula = '=SUM(D2:D{})'.format(last_row)\n",
    "        nws.range('D{}'.format(j)).formula ='=round(C{}/1.13,2)'.format(j)\n",
    "        nws.range('B1').expand('down').number_format = '#,##0.00'\n",
    "        nws.range('D1').expand('down').number_format = '#,##0.00'\n",
    "        nws.range('C1').expand('down').number_format = '#,##0.00'\n",
    "        nws.autofit()\n",
    "    wb.close()\n",
    "    nwb.save(fname1)\n",
    "    nwb.close()\n",
    "    app.quit()\n",
    "    return fname1\n",
    "\n",
    "def  choiceJPrintGongyingshangs(fname, ws_name,saixuanliezhi):\n",
    "    df = pd.read_excel(fname,sheet_name=ws_name)\n",
    "    df = df[df['期间']==saixuanliezhi]\n",
    "    gongyingshangs = df['供货单位'].unique()\n",
    "    gongyingshangs = sortbypinyin.pinyinSort(gongyingshangs)     #供应商按拼音排序\n",
    "    msg = '请选择供应商'\n",
    "    gongyingshangs = easygui.multchoicebox(msg, title=msg, choices=gongyingshangs)\n",
    "    return gongyingshangs\n"
   ]
  },
  {
   "cell_type": "code",
   "execution_count": 4,
   "id": "3d6d8cd1",
   "metadata": {},
   "outputs": [
    {
     "data": {
      "text/plain": [
       "['彩皇', '武汉嘉骏']"
      ]
     },
     "execution_count": 4,
     "metadata": {},
     "output_type": "execute_result"
    }
   ],
   "source": [
    "gongyingshangs = choiceJPrintGongyingshangs(fname,ws_name,saixuanliezhi)\n",
    "gongyingshangs"
   ]
  },
  {
   "cell_type": "code",
   "execution_count": 5,
   "id": "560655ee",
   "metadata": {},
   "outputs": [],
   "source": [
    "fname1 = r'F:\\a00nutstore\\fishc\\材料入库单.xlsx'\n",
    "fname1 = toushiBiao(fname1,fname, ws_name, gongyingshangs, zhiziduan, hangziduan, jisuanfangsi, saixuanliezhi)\n",
    "excelfastsetings.fastseting(fname1,gongyingshangs)\n",
    "excelprint.wsPrints(fname1,gongyingshangs)"
   ]
  },
  {
   "cell_type": "code",
   "execution_count": null,
   "id": "3ce5f9be",
   "metadata": {},
   "outputs": [],
   "source": []
  }
 ],
 "metadata": {
  "kernelspec": {
   "display_name": "Python 3 (ipykernel)",
   "language": "python",
   "name": "python3"
  },
  "language_info": {
   "codemirror_mode": {
    "name": "ipython",
    "version": 3
   },
   "file_extension": ".py",
   "mimetype": "text/x-python",
   "name": "python",
   "nbconvert_exporter": "python",
   "pygments_lexer": "ipython3",
   "version": "3.8.3"
  }
 },
 "nbformat": 4,
 "nbformat_minor": 5
}
