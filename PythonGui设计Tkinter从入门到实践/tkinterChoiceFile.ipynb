{
 "cells": [
  {
   "cell_type": "code",
   "execution_count": null,
   "id": "ab06f48f-5ecf-4769-9f04-aa4c37702881",
   "metadata": {},
   "outputs": [],
   "source": [
    "import tkinter as tk\n",
    "from tkinter import filedialog\n",
    "\n",
    "root = tk.Tk()\n",
    "root.withdraw()\n",
    "\n",
    "file_path = filedialog.askopenfilename()\n",
    "\n",
    "if file_path:\n",
    "    print(\"你选择了文件: %s\" % file_path)\n",
    "else:\n",
    "    print(\"你取消了文件选择。\")"
   ]
  },
  {
   "cell_type": "code",
   "execution_count": 1,
   "id": "e4c4c94d-f228-49f9-83a0-bdae5d7c6dec",
   "metadata": {},
   "outputs": [],
   "source": [
    "import tkinter as tk\n",
    "from tkinter import filedialog\n",
    "\n",
    "root = tk.Tk()\n",
    "#root.withdraw()\n",
    "\n",
    "folder_path = filedialog.askdirectory()\n",
    "\n",
    "if folder_path:\n",
    "    root.geometry(\"300x300\")\n",
    "    tk.Label(root, text=\"文件夹路径:\").pack()\n",
    "    tk.Label(root, text=folder_path).pack()\n",
    "    root.mainloop()\n",
    "else:\n",
    "    print(\"你取消了文件夹选择。\")"
   ]
  },
  {
   "cell_type": "code",
   "execution_count": null,
   "id": "f9d52abd-ffea-4be5-90b5-e53210efcfd7",
   "metadata": {},
   "outputs": [],
   "source": []
  },
  {
   "cell_type": "code",
   "execution_count": null,
   "id": "fa2e108f-ee27-4f23-946e-86f0853d4fd3",
   "metadata": {},
   "outputs": [],
   "source": []
  }
 ],
 "metadata": {
  "kernelspec": {
   "display_name": "Python 3 (ipykernel)",
   "language": "python",
   "name": "python3"
  },
  "language_info": {
   "codemirror_mode": {
    "name": "ipython",
    "version": 3
   },
   "file_extension": ".py",
   "mimetype": "text/x-python",
   "name": "python",
   "nbconvert_exporter": "python",
   "pygments_lexer": "ipython3",
   "version": "3.11.5"
  }
 },
 "nbformat": 4,
 "nbformat_minor": 5
}
