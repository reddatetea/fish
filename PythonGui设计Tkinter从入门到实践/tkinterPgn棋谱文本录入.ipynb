{
 "cells": [
  {
   "cell_type": "code",
   "execution_count": null,
   "id": "7552d45e-4af9-4e37-9ca7-f41e517e7d02",
   "metadata": {
    "pycharm": {
     "is_executing": true
    }
   },
   "outputs": [],
   "source": [
    "import tkinter as tk\n",
    "from tkinter import ttk\n",
    " \n",
    "def get_text():\n",
    "    global PgnText\n",
    "    PgnText = my_text.get(\"1.0\", \"end-1c\") # 从第一行到最后一行（不包括结尾）之间的文本内容\n",
    "  \n",
    "root = tk.Tk()\n",
    "root.title('棋谱文本录入')\n",
    "my_text = tk.Text(root)\n",
    "scroll = tk.Scrollbar()\n",
    "# 放到窗口的右侧, 填充Y竖直方向\n",
    "scroll.pack(side=tk.RIGHT,fill=tk.Y)\n",
    " \n",
    "# 两个控件关联\n",
    "scroll.config(command=my_text.yview)\n",
    "my_text.config(yscrollcommand=scroll.set)\n",
    "my_text.pack()\n",
    "\n",
    "button = ttk.Button(root, text=\"Get Text\", command=get_text)\n",
    "button.pack()\n",
    "root.mainloop()\n",
    "print(PgnText)"
   ]
  },
  {
   "cell_type": "code",
   "execution_count": 30,
   "id": "fd0ee04f-94cb-42d6-af72-100ef0155410",
   "metadata": {},
   "outputs": [],
   "source": [
    "with  open('111.txt','a') as f:\n",
    "    lines = PgnText.split(\"\\n\") # 将文本按换行符分割成多行\n",
    "    for i in range(1,len(lines)+1):\n",
    "        f.write(str(i))\n",
    "        f.write(f'{lines[i-1]}\\n')\n",
    "\n",
    "\n",
    "\n",
    "\n",
    "\n",
    "\n"
   ]
  },
  {
   "cell_type": "code",
   "execution_count": null,
   "id": "6415f8b5-423d-4585-8837-1eafc99eb75d",
   "metadata": {},
   "outputs": [],
   "source": []
  }
 ],
 "metadata": {
  "kernelspec": {
   "display_name": "Python 3 (ipykernel)",
   "language": "python",
   "name": "python3"
  },
  "language_info": {
   "codemirror_mode": {
    "name": "ipython",
    "version": 3
   },
   "file_extension": ".py",
   "mimetype": "text/x-python",
   "name": "python",
   "nbconvert_exporter": "python",
   "pygments_lexer": "ipython3",
   "version": "3.11.5"
  }
 },
 "nbformat": 4,
 "nbformat_minor": 5
}
