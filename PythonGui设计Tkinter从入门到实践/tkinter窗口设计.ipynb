{
 "cells": [
  {
   "cell_type": "code",
   "execution_count": 1,
   "id": "48ed9b23",
   "metadata": {},
   "outputs": [],
   "source": [
    "#创建窗口\n",
    "from tkinter import *\n",
    "win = Tk()\n",
    "win.mainloop()"
   ]
  },
  {
   "cell_type": "code",
   "execution_count": 5,
   "id": "be9a2081",
   "metadata": {},
   "outputs": [],
   "source": [
    "#为窗口添加标题\n",
    "from tkinter import *\n",
    "win = Tk()\n",
    "win.title('tkinter的初级使用')\n",
    "txt = Label(win,text = '\\n\\ngame over\\n\\n').pack()\n",
    "win.mainloop()"
   ]
  },
  {
   "cell_type": "code",
   "execution_count": 10,
   "id": "18ed0864",
   "metadata": {},
   "outputs": [],
   "source": [
    "#设置窗口样式\n",
    "from tkinter import *\n",
    "win = Tk()\n",
    "win.title('tkinter的基本属性')\n",
    "win.geometry('300x150')\n",
    "win.configure(bg = 'yellow')\n",
    "win.maxsize(500,500)\n",
    "couple = '\\n\\n上联：足不出户一台电脑打天下\\n\\n下联：窝宅在家一双巧手定乾坤\\n\\n横批：量我风采'\n",
    "Label(win,text = couple,bg='yellow').pack()\n",
    "win.mainloop()"
   ]
  },
  {
   "cell_type": "code",
   "execution_count": 15,
   "id": "a07b1edf",
   "metadata": {},
   "outputs": [],
   "source": [
    "#设置窗口位置\n",
    "from tkinter import *\n",
    "win = Tk()\n",
    "win.geometry('300x300+100+100')\n",
    "win.mainloop()"
   ]
  },
  {
   "cell_type": "code",
   "execution_count": 1,
   "id": "63f383a6",
   "metadata": {},
   "outputs": [],
   "source": [
    "#设置窗口样式\n",
    "from tkinter import *\n",
    "win = Tk()\n",
    "win.title('tkinter的基本属性')\n",
    "win.geometry('300x150')\n",
    "win.configure(bg = 'yellow')\n",
    "win.maxsize(500,500)\n",
    "couple = '\\n\\n上联：足不出户一台电脑打天下\\n\\n下联：窝宅在家一双巧手定乾坤\\n\\n横批：量我风采'\n",
    "Label(win,text = couple,bg='yellow').pack()\n",
    "win.mainloop()"
   ]
  },
  {
   "cell_type": "code",
   "execution_count": null,
   "id": "b307d2f9",
   "metadata": {},
   "outputs": [],
   "source": [
    "#设置窗口大小以及位置\n",
    "from tkinter import *\n",
    "win = Tk()\n",
    "win.title('tkinter的窗口位置')\n",
    "win.configure(bg ='#a7ea90')\n",
    "winw = 300\n",
    "winh = 220\n",
    "scrw = win.winfo_screenwidth()\n",
    "scrh = win.winfo_screenheight()\n",
    "x = (scrw-winw)/2\n",
    "y = (scrw-winh)/2\n",
    "win.geometry(\"%dx%d+%d+%d\"%(winw,winh,x,y))\n",
    "str = '\\n\\n程序员鄙视链\\n\\n一级码农搞算法,吃香喝辣调调参\\n\\n二级码农搞架构，高并低延能吹牛\\n\\n\\\n",
    "三等码农搞工程，怼天怼地pm\\n\\n四等码农搞前瞻，浮层像素老黄牛'\n",
    "txt = Label(win,text = str,bg='#a7ea90').pack()\n",
    "win.mainloop()"
   ]
  },
  {
   "cell_type": "code",
   "execution_count": 2,
   "id": "dc91ac10",
   "metadata": {},
   "outputs": [],
   "source": [
    "from tkinter import *\n",
    "win=Tk()\n",
    "win.title(\"充值成功\")\n",
    "win.geometry(\"300x240\")\n",
    "str=\"1、一级VIP30天\\n\\n2、每天额外赠送300金币7天\\n\\n3、全英雄限免30天\\n\"\n",
    "text=Label(win,text=\"\\n充值成功!\",font=\"Times 18 bold\").pack()\n",
    "text1=Label(win,text=\"\\n恭喜获得：\\n\",font=\"16\").pack(anchor=W,padx=45)\n",
    "text2=Label(win,text=str,font=\"18\",fg=\"red\",justify=\"left\").pack()\n",
    "\n",
    "win.mainloop()\n"
   ]
  },
  {
   "cell_type": "code",
   "execution_count": 4,
   "id": "523633be",
   "metadata": {},
   "outputs": [],
   "source": [
    "from tkinter import *\n",
    "win = Tk()\n",
    "label = Label(win,text = '上拜图灵只佑服务可用\\n\\n下跪关公但求永不宕机\\n\\n风调码顺')\n",
    "label.config(bg = '#DEF1EF',fg = 'red',font = 14)\n",
    "label.pack()\n",
    "win.mainloop()"
   ]
  },
  {
   "cell_type": "code",
   "execution_count": null,
   "id": "087565f0",
   "metadata": {},
   "outputs": [],
   "source": []
  }
 ],
 "metadata": {
  "kernelspec": {
   "display_name": "Python 3 (ipykernel)",
   "language": "python",
   "name": "python3"
  },
  "language_info": {
   "codemirror_mode": {
    "name": "ipython",
    "version": 3
   },
   "file_extension": ".py",
   "mimetype": "text/x-python",
   "name": "python",
   "nbconvert_exporter": "python",
   "pygments_lexer": "ipython3",
   "version": "3.8.18"
  }
 },
 "nbformat": 4,
 "nbformat_minor": 5
}
