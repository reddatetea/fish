{
 "cells": [
  {
   "cell_type": "code",
   "execution_count": 1,
   "id": "7e034cbc",
   "metadata": {},
   "outputs": [],
   "source": [
    "from tkinter import *\n",
    "win=Tk()                           #添加标题\n",
    "win.title(\"斗兽棋游戏的食物链\")    #添加标题\n",
    "# textd定义Label标签里的文本内容，bg表示Label的背景颜色\n",
    "txt1=Label(win,text=\"象\",bg=\"#FFEBCD\",width=5,padx=4,pady=4,font=\"14\")\n",
    "txt2=Label(win,text=\"狮\",bg=\"#c1ffc1\",width=5,padx=4,pady=4,font=\"14\")\n",
    "txt3=Label(win,text=\"虎\",bg=\"#FFEBCD\",width=5,padx=4,pady=4,font=\"14\")\n",
    "txt4=Label(win,text=\"豹\",bg=\"#c1ffc1\",width=5,padx=4,pady=4,font=\"14\")\n",
    "txt5=Label(win,text=\"狼\",bg=\"#FFEBCD\",width=5,padx=4,pady=4,font=\"14\")\n",
    "txt6=Label(win,text=\"狗\",bg=\"#c1ffc1\",width=5,padx=4,pady=4,font=\"14\")\n",
    "txt7=Label(win,text=\"猫\",bg=\"#FFEBCD\",width=5,padx=4,pady=4,font=\"14\")\n",
    "txt8=Label(win,text=\"鼠\",bg=\"#c1ffc1\",width=5,padx=4,pady=4,font=\"14\")\n",
    "# foreground设置label组件的文字颜色\n",
    "txtr1=Label(win,text=\"→\",padx=2,pady=2,foreground=\"#B22222\").grid(row=1,column=2)\n",
    "txtr2=Label(win,text=\"→\",padx=2,pady=2,foreground=\"#B22222\").grid(row=1,column=4)\n",
    "txtb1=Label(win,text=\"↓\",padx=2,pady=2,foreground=\"#B22222\").grid(row=2,column=5)\n",
    "txtb2=Label(win,text=\"↓\",padx=2,pady=2,foreground=\"#B22222\").grid(row=4,column=5)\n",
    "txtl1=Label(win,text=\"←\",padx=2,pady=2,foreground=\"#B22222\").grid(row=5,column=4)\n",
    "txtl2=Label(win,text=\"←\",padx=2,pady=2,foreground=\"#B22222\").grid(row=5,column=2)\n",
    "txtt1=Label(win,text=\"↑\",padx=2,pady=2,foreground=\"#B22222\").grid(row=4,column=1)\n",
    "txtt2=Label(win,text=\"↑\",padx=2,pady=2,foreground=\"#B22222\").grid(row=2,column=1)\n",
    "# 设置斗兽棋游戏的棋子的位置\n",
    "txt1.grid(row=1,column=1)\n",
    "txt2.grid(row=1,column=3)\n",
    "txt3.grid(row=1,column=5)\n",
    "txt4.grid(row=3,column=5)\n",
    "txt5.grid(row=5,column=5)\n",
    "txt6.grid(row=5,column=3)\n",
    "txt7.grid(row=5,column=1)\n",
    "txt8.grid(row=3,column=1)\n",
    "win.mainloop()"
   ]
  },
  {
   "cell_type": "code",
   "execution_count": 2,
   "id": "8ed13f9f",
   "metadata": {},
   "outputs": [],
   "source": [
    "win = Tk()\n",
    "img = PhotoImage(file=r\"F:\\repos\\fish\\PythonGui设计Tkinter从入门到实践\\Code\\12\\11\\cat.png\")\n",
    "Label(win,image=img).pack()\n",
    "win.mainloop()"
   ]
  },
  {
   "cell_type": "code",
   "execution_count": 10,
   "id": "ffdf7595",
   "metadata": {},
   "outputs": [],
   "source": [
    "from tkinter import *\n",
    "win=Tk()\n",
    "win.title(\"欢乐写数字\")\n",
    "win.configure(bg=\"#EEF3C3\")   #设置窗口的背景颜色\n",
    "img=PhotoImage(file=\"game.png\")  #创建图片对象\n",
    "#在Label中添加图片和文字，compound表示图片在文字下方\n",
    "game=Label(win,image=img,text=\"欢乐写数字\",compound=\"bottom\",font=\"楷体 20 bold\",fg=\"#D25EED\",bg=\"#EEF3C3\")\n",
    "game.grid(row=2,column=0,columnspan=2)\n",
    "# 添加文字\n",
    "Label(win,text=\"输入兑奖码领取稀有道具\",bg=\"#EEF3C3\").grid(row=3,column=0,columnspan=2)\n",
    "Label(win,text=\"兑奖码：\",font=14,bg=\"#EEF3C3\").grid(row=4,column=0,sticky=E,pady=10)\n",
    "Label(win,width=15,bg=\"#fff\",relief=\"groove\").grid(row=4,column=1,pady=10)\n",
    "Label(win,text=\"确认兑换\",width=20,relief=\"groove\",bg=\"#0996ED\").grid(row=5,column=0,columnspan=2,pady=5)\n",
    "win.mainloop()"
   ]
  },
  {
   "cell_type": "code",
   "execution_count": 11,
   "id": "8626e5d0",
   "metadata": {},
   "outputs": [],
   "source": [
    "from tkinter import *\n",
    "win=Tk()\n",
    "win.title(\"欢乐写数字\")\n",
    "win.configure(bg=\"#EEF3C3\")   #设置窗口的背景颜色\n",
    "img=PhotoImage(file=\"game.png\")  #创建图片对象\n",
    "#在Label中添加图片和文字，compound表示图片在文字下方\n",
    "game=Label(win,image=img,text=\"欢乐写数字\",compound=\"bottom\",font=\"楷体 20 bold\",fg=\"#D25EED\",bg=\"#EEF3C3\")\n",
    "game.grid(row=0,column=0,columnspan=2)\n",
    "# 添加文字\n",
    "Label(win,text=\"输入兑奖码领取稀有道具\",bg=\"#EEF3C3\").grid(row=1,column=0,columnspan=2)\n",
    "Label(win,text=\"兑奖码：\",font=14,bg=\"#EEF3C3\").grid(row=2,column=0,sticky=E,pady=10)\n",
    "Label(win,width=15,bg=\"#fff\",relief=\"groove\").grid(row=2,column=1,pady=10)\n",
    "Label(win,text=\"确认兑换\",width=20,relief=\"groove\",bg=\"#0996ED\").grid(row=5,column=0,columnspan=2,pady=5)\n",
    "win.mainloop()"
   ]
  },
  {
   "cell_type": "code",
   "execution_count": 18,
   "id": "357dad30",
   "metadata": {},
   "outputs": [],
   "source": [
    "#打开JPG格式图片\n",
    "from tkinter import *\n",
    "from PIL import Image,ImageTk\n",
    "win = Tk()\n",
    "image = Image.open('1.jpg')\n",
    "img1 = ImageTk.PhotoImage(image) #img1 = ImageTk.PhotoImage(image,master = win)\n",
    "text1 = Label(win,image=img1).pack()\n",
    "win.mainloop()"
   ]
  },
  {
   "cell_type": "code",
   "execution_count": 22,
   "id": "90599116",
   "metadata": {},
   "outputs": [],
   "source": [
    "from tkinter import *\n",
    "win = Tk()\n",
    "win.configure(bg = '#C9EDEB')\n",
    "win.maxsize(500,500)\n",
    "couple = '上联：足不出户一台电脑打天下下联：窝宅在家一双巧手定乾坤横批：量我风采'\n",
    "txt = Label(win,text = couple,bg='#C9EDEB',font=14,wraplength=230,justify='left')\n",
    "txt.pack(padx=20,pady=20)\n",
    "win.mainloop()"
   ]
  },
  {
   "cell_type": "code",
   "execution_count": 2,
   "id": "558dd26c",
   "metadata": {},
   "outputs": [],
   "source": [
    "#Entry文本框\n",
    "from tkinter import *\n",
    "win = Tk()\n",
    "Label(win,text='出发地：',font=14).grid(pady=10,row=0,column=0)\n",
    "Entry(win).grid(row=0,column=1)\n",
    "Label(win,text='目的地：',font=14).grid(pady=10,row=1,column=0)\n",
    "Entry(win).grid(row=1,column=1)\n",
    "win.mainloop()"
   ]
  },
  {
   "cell_type": "code",
   "execution_count": 28,
   "id": "f4700adc",
   "metadata": {},
   "outputs": [],
   "source": [
    "from tkinter import *\n",
    "win = Tk()\n",
    "Label(win,text='密码',font=14).grid(pady=10,row=0,column=0)\n",
    "Entry(win,show='#').grid(row=0,column=1)\n",
    "win.mainloop()\n"
   ]
  },
  {
   "cell_type": "code",
   "execution_count": 29,
   "id": "f3935586",
   "metadata": {},
   "outputs": [],
   "source": [
    "from tkinter import *\n",
    "\n",
    "win=Tk()\n",
    "win.configure(bg=\"#EFE5D2\")    #设置窗口的背景颜色\n",
    "user=PhotoImage(file=\"user.png\")     #用户名图标\n",
    "psw=PhotoImage(file=\"psw.png\")       #密码图标\n",
    "Label(win,image=user,bg=\"#fff\").grid(row=0)    #显示用户名图标\n",
    "Entry(win).grid(row=0,column=1,padx=10,pady=10)  #用户名文本框\n",
    "Label(win,image=psw,bg=\"#fff\").grid(row=1)       #显示密码图标\n",
    "Entry(win,show=\"*\").grid(row=1,column=1,padx=10,pady=10)    #密码文本框，输入的内容显示为“*”\n",
    "Label(win,text=\"确定\",relief=\"groove\").grid(row=2,columnspan=2,pady=10)\n",
    "win.mainloop()"
   ]
  },
  {
   "cell_type": "code",
   "execution_count": 1,
   "id": "fcb8e220",
   "metadata": {},
   "outputs": [
    {
     "name": "stdout",
     "output_type": "stream",
     "text": [
      "你好\n"
     ]
    }
   ],
   "source": [
    "#Entry中的get方法\n",
    "from tkinter import *\n",
    "\n",
    "win=Tk()\n",
    "def show():\n",
    "    str = entry.get()\n",
    "    print(str)\n",
    "entry = Entry(win)\n",
    "entry.grid(row=0)\n",
    "Button(win,text='显示',command=show).grid(row=0,column=1)\n",
    "win.mainloop()"
   ]
  },
  {
   "cell_type": "code",
   "execution_count": 3,
   "id": "ddd2ea43-9dde-45cd-b34f-5261728a12a9",
   "metadata": {},
   "outputs": [],
   "source": [
    "#Entry中的get方法\n",
    "from tkinter import *\n",
    "win = Tk()\n",
    "\n",
    "Label(win,text='用户名：').grid(row=0,column=0)\n",
    "entry = Entry(win,relief='groove')\n",
    "entry.insert(0,'admin')\n",
    "entry.grid(row=0,column=1)\n",
    "win.mainloop()"
   ]
  },
  {
   "cell_type": "code",
   "execution_count": 9,
   "id": "4be3a30c-e9bf-43e8-92a7-5ded7117fc85",
   "metadata": {},
   "outputs": [],
   "source": [
    "from tkinter import *\n",
    "win = Tk()\n",
    "def back():\n",
    "    length=len(op1.get())\n",
    "    op1.delete(length-1,END)\n",
    "op1 = Entry(win,relief='groove')\n",
    "op1.insert(INSERT,'春风又绿江南岸')\n",
    "op1.grid(row=0)\n",
    "Button(win,text='后退',command=back).grid(row=0,column=1)\n",
    "win.mainloop()"
   ]
  },
  {
   "cell_type": "code",
   "execution_count": 2,
   "id": "7884eb7d-955a-421b-b2a9-1d208c56b24b",
   "metadata": {},
   "outputs": [],
   "source": [
    "from tkinter import *\n",
    "win=Tk()\n",
    "win.configure(bg=\"#F3E4A4\")    #设置窗口的背景颜色\n",
    "def add():\n",
    "    re.delete(0,END)     #清空显示结果的文本框的内容\n",
    "    add1=int(op1.get())  #获取第一个加数\n",
    "    add2=int(op2.get())  #获取第二个加数\n",
    "    re.insert(INSERT,add1+add2)\n",
    "op1=Entry(win,width=5,relief=\"groove\")    #第一个加数文本框\n",
    "op1.grid(row=0,pady=20)\n",
    "Label(win,text=\"+\",bg=\"#F3E4A4\").grid(row=0,column=1)\n",
    "op2=Entry(win,width=5,relief=\"groove\")   #第二个加数文本框\n",
    "op2.grid(row=0,column=2)\n",
    "Label(win,text=\"=\",bg=\"#F3E4A4\").grid(row=0,column=3)\n",
    "re=Entry(win,width=5,relief=\"groove\")    #显示结果的文本框\n",
    "re.grid(row=0,column=4)\n",
    "Button(win,text=\"计算\",command=add,relief=\"groove\",bg=\"#10C9F5\").grid(row=1,columnspan=5,ipadx=10)\n",
    "win.mainloop()\n"
   ]
  },
  {
   "cell_type": "code",
   "execution_count": 29,
   "id": "cb23b89b-1509-442a-924f-6c93ae7bc682",
   "metadata": {},
   "outputs": [],
   "source": [
    "i = 0   #单击按钮的次数，初始值为0\n",
    "\n",
    "\n",
    "def show():\n",
    "    global i  #声明为全局变量\n",
    "    i += 1   #单击一次按钮，ijiu就加1\n",
    "    label.config(text=\"你点了我\\t\" + str(i) + \"下\")\n",
    "\n",
    "\n",
    "from tkinter import *\n",
    "from PIL import Image,ImageTk\n",
    "\n",
    "root = Tk()        #创建根窗口\n",
    "text = Text(root, width=70, height=20, bg=\"#CAE1FF\", relief=\"solid\",font=14)   #创建多行文本框\n",
    "# image = Image.open(\"ico.png\")\n",
    "# photo = ImageTk.PhotoImage(image)\n",
    "photo = PhotoImage(file=\"ico.png\")        # 创建了一个图象对象\n",
    "text.image_create(END, image=photo)       # text中插入图像\n",
    "text.insert(INSERT, \"在这里添加文本:\\n\")  # 添加文本\n",
    "text.pack()       #包装文本框，没有此步骤，文本框无法显示在窗口中\n",
    "# 插入组件\n",
    "bt = Button(root, text='你点我试试', command=show, padx=10)  #创建按钮\n",
    "text.window_create(\"2.end\", window=bt)  # 将按钮放置在text中\n",
    "label = Label(root, padx=10, text=\"你点了我0下\")   #创建Label组件\n",
    "text.window_create(\"3.end\", window=label)  # 将Label组件放置在text中\n",
    "root.mainloop()\n"
   ]
  },
  {
   "cell_type": "code",
   "execution_count": 30,
   "id": "b3ec487c-debd-4019-bab6-868d19ee1e5c",
   "metadata": {},
   "outputs": [
    {
     "name": "stdout",
     "output_type": "stream",
     "text": [
      "love\n"
     ]
    }
   ],
   "source": [
    "from tkinter import *\n",
    "win = Tk()\n",
    "text = Text(win)\n",
    "text.insert(INSERT,'I love python')\n",
    "text.pack()\n",
    "print(text.get(1.2,1.6))\n",
    "win.mainloop()"
   ]
  },
  {
   "cell_type": "code",
   "execution_count": 34,
   "id": "c7ca32dd-16af-4f83-a0ff-4591905a7555",
   "metadata": {},
   "outputs": [],
   "source": [
    "from tkinter import *\n",
    "root = Tk()\n",
    "def undo1(event):\n",
    "    text.edit_undo()\n",
    "def redo1(event):\n",
    "    text.edit_redo()\n",
    "def callback(event):\n",
    "    text.edit_separator()\n",
    "text = Text(root,width=50,height=30,undo=True,autoseparators=False)\n",
    "text.pack()\n",
    "text.insert(INSERT,'在下方可以添加文本，通过键盘<CTRL+Z>撤消操作和<CTRL+Y>键盘操作：\\n\\n')\n",
    "text.bind('<Key>',callback)\n",
    "text.bind('<Control-Z>',undo1)\n",
    "text.bind('<Control-Y>',redo1)\n",
    "root.mainloop()"
   ]
  },
  {
   "cell_type": "code",
   "execution_count": 35,
   "id": "02c055a3-f5bf-4d8c-8350-1455bb857126",
   "metadata": {},
   "outputs": [],
   "source": [
    "from tkinter import *\n",
    "win=Tk()             #创建根窗口\n",
    "win.title(\"购买道具\")    #添加窗口标题\n",
    "Label(win,text=\"购买道具：\").grid(row=0,column=0,pady=10)\n",
    "#通过元组定义可选择的值\n",
    "Spinbox(win,values=(\"绿水晶\",\"红宝石\",\"生命水\")).grid(row=0,column=1,pady=10)\n",
    "Label(win,text=\"购买数量：\").grid(row=1,column=0,pady=10)\n",
    "#通过from_和to定义可选的数值范围\n",
    "Spinbox(win,from_=1,to=5).grid(row=1,column=1,pady=10)\n",
    "Label(win,text=\"限购5件\").grid(row=1,column=2,pady=10)\n",
    "Label(win,text=\"支付方式：\").grid(row=2,column=0,pady=10)\n",
    "Spinbox(win,values=(\"金币\",\"钻石\",\"点券\")).grid(row=2,column=1,pady=10)\n",
    "win.mainloop()"
   ]
  },
  {
   "cell_type": "code",
   "execution_count": 36,
   "id": "844eef51-57fc-4b1e-bbe8-8326fab90240",
   "metadata": {},
   "outputs": [],
   "source": [
    "from tkinter import *\n",
    "win=Tk()\n",
    "mon=5     #道具的单价，默认单价是5金币\n",
    "def typ():\n",
    "    global mon\n",
    "    if val.get()==\"绿水晶\":   #道具不同，单价不同\n",
    "        mon=5\n",
    "    elif val.get()==\"红宝石\":\n",
    "        mon=10\n",
    "    else:\n",
    "        mon=15\n",
    "    pay()\n",
    "def pay():\n",
    "    number=int(num.get())   #获取单价\n",
    "    tatal=number*mon       #计算总价\n",
    "    text1=\"选购 \"+val.get()+\" 总价 \"+str(tatal)+\" 金币\"\n",
    "    label.config(text=text1)\n",
    "win.title(\"购买道具\")\n",
    "Label(win,text=\"购买道具：\").grid(row=0,column=0,pady=10)\n",
    "val=StringVar()   #该变量用于绑定道具Spinbox组件\n",
    "val.set(\"绿水晶\") #初始道具\n",
    "Spinbox(win,values=(\"绿水晶\",\"红宝石\",\"生命水\"),textvariable=val,command=typ).grid(row=0,column=1,pady=10)\n",
    "Label(win,text=\"购买数量：\").grid(row=1,column=0,pady=10)\n",
    "num=Spinbox(win,from_=1,to=5,command=pay)\n",
    "num.grid(row=1,column=1,pady=10)\n",
    "Label(win,text=\"限购5件\").grid(row=1,column=2,pady=10)\n",
    "label=Label(win)\n",
    "label.grid(row=3, column=0,columnspan=3, pady=10)\n",
    "win.mainloop()"
   ]
  },
  {
   "cell_type": "code",
   "execution_count": null,
   "id": "2f8bdca4-86ec-4a90-9f14-6a326b494abe",
   "metadata": {},
   "outputs": [],
   "source": [
    "from tkinter import *\n",
    "def show():\n",
    "    #在文本框中添加时间与星期\n",
    "    info.insert(\"insert\", \"\\t时间:%s月%s日 %s\\n\" % (spmon.get(), spdat.get(), spwek.get(),))\n",
    "win = Tk()\n",
    "win.title(\"留言本\")\n",
    "mess=Label(win,text=\"请添加你的留言：\").grid(row=0,column=0,columnspan=5,pady=10)\n",
    "spmon=Spinbox(win,from_=1,to=12,width=10)     #选择月份\n",
    "spmon.grid(row=1,column=0,pady=10)\n",
    "mon=Label(win,text=\"月\").grid(row=1,column=1,pady=10)\n",
    "spdat=Spinbox(win,from_=1,to=30,width=10)     #选择日期\n",
    "spdat.grid(row=1,column=2,pady=10)\n",
    "dat=Label(win,text=\"日\").grid(row=1,column=3,pady=10)\n",
    "spwek=Spinbox(win,values=(\"星期一\", \"星期二\", \"星期三\", \"星期四\", \"星期五\", \"星期六\", \"星期日\"),width=10)   #选择星期\n",
    "spwek.grid(row=1,column=5,columnspan=3,pady=10)\n",
    "info=Text(win,bg=\"#BFEFFF\",width=50,height=10)     #添加日记内容的文本框\n",
    "get1 = Button(win, text='提交',width=30 ,bg=\"#EDB89E\",command=show).grid(row=3,columnspan=10,pady=10)\n",
    "info.grid(row=2,columnspan=10)\n",
    "win.mainloop()"
   ]
  },
  {
   "cell_type": "code",
   "execution_count": 7,
   "id": "92e6b895-dc80-41a9-82d0-4d721db7dc70",
   "metadata": {},
   "outputs": [],
   "source": [
    "from tkinter import *\n",
    "win = Tk()\n",
    "Scale(win,from_=1,to=12,resolution=1,orient=HORIZONTAL).pack()\n",
    "win.mainloop()"
   ]
  },
  {
   "cell_type": "code",
   "execution_count": 6,
   "id": "bf9f5926-b3ee-49ac-8a89-afed1a332a6f",
   "metadata": {},
   "outputs": [],
   "source": [
    "from tkinter import *\n",
    "# num=0   #设置初始值\n",
    "# # 单击加号时，滑块向右移动一格，并且计算爱心暴击\n",
    "def up1():\n",
    "    if scale1.get() < 50:\n",
    "        val = scale1.get() + 1\n",
    "        scale1.set(val)\n",
    "        num=val*5\n",
    "        txt.config(text=\"爱心暴击 \"+str(num))\n",
    "# 单击减号时，滑块向左移动一格，并且计算爱心暴击\n",
    "def down1():\n",
    "    if scale1.get() > 0:\n",
    "        val = scale1.get() - 1\n",
    "        scale1.set(val)\n",
    "        num = val * 5\n",
    "        txt.config(text=\"爱心暴击 \" + str(num))\n",
    "#滑动滑块时，计算爱心暴击\n",
    "def hit(widget):\n",
    "    num=scale1.get()*5\n",
    "    txt.config(text=\"爱心暴击 \" + str(num))\n",
    "win = Tk()\n",
    "win.title(\"爱心暴击\")\n",
    "txt = Label(text=\"爱心暴击+0\")\n",
    "txt.pack(side=TOP)\n",
    "btndown = Button(win, text=\"-\", command=down1, width=2).pack(side=\"left\")\n",
    "# 设置滑块的取值范围为0-50，进步值为1,\n",
    "scale1 = Scale(win, from_=0, to=50, resolution=1, orient=HORIZONTAL,showvalue=0,command=hit,troughcolor=\"#22EBBB\")\n",
    "scale1.pack(side=\"left\")\n",
    "num = Entry()\n",
    "btnup = Button(win, text=\"+\", command=up1, width=2).pack(side=\"left\")"
   ]
  },
  {
   "cell_type": "code",
   "execution_count": null,
   "id": "617f6ded-4d07-476e-a3cd-28ea2fd5306b",
   "metadata": {},
   "outputs": [],
   "source": []
  }
 ],
 "metadata": {
  "kernelspec": {
   "display_name": "Python 3 (ipykernel)",
   "language": "python",
   "name": "python3"
  },
  "language_info": {
   "codemirror_mode": {
    "name": "ipython",
    "version": 3
   },
   "file_extension": ".py",
   "mimetype": "text/x-python",
   "name": "python",
   "nbconvert_exporter": "python",
   "pygments_lexer": "ipython3",
   "version": "3.11.5"
  }
 },
 "nbformat": 4,
 "nbformat_minor": 5
}
