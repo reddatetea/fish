{
 "cells": [
  {
   "cell_type": "code",
   "execution_count": 7,
   "id": "9e323167-86a9-4caf-9898-602ca2dcc8a6",
   "metadata": {},
   "outputs": [
    {
     "name": "stdout",
     "output_type": "stream",
     "text": [
      "maxrows 174\n"
     ]
    }
   ],
   "source": [
    "from tkinter import  *\n",
    "from tkinter import filedialog\n",
    "import openpyxl\n",
    "\n",
    "root = Tk()\n",
    "fname = filedialog.askopenfilename()\n",
    "wb = openpyxl.load_workbook(fname)\n",
    "sheetnames = wb.sheetnames\n",
    "root.destroy()\n",
    "\n",
    "def result1():\n",
    "    # re.delete(\"0.0\",END)\n",
    "    global sheetname\n",
    "    sheetname = sheetnames[v.get()]\n",
    "    re.config(text=sheetname)\n",
    "\n",
    "win = Tk()\n",
    "win.title(\"请选择工作表\")\n",
    "# 数组存储单选按钮显示的值\n",
    "Label(win, text=\"选好后，按下面的‘确定'\", font=\"14\").pack(anchor=W)\n",
    "\n",
    "v = IntVar()    #该变量绑定一组单选按钮的值\n",
    "for sheetname in sheetnames:\n",
    "    # text为单选按钮旁显示的文字,value为单选按钮的值，indicatoron设置单选按钮为矩形，selectcolor设置被选中的颜色\n",
    "    radio = Radiobutton(win, text=sheetname, variable=v, value=i, font=\"12\", indicatoron=0, selectcolor=\"#00ffff\")\n",
    "    radio.pack(side=TOP, fill=X, padx=20, pady=3)\n",
    "#提交按钮\n",
    "button = Button(win, text=\"确定\", command=result1, font=\"14\", bg=\"#4CC6E3\")\n",
    "button.pack(side=TOP, fill=X, padx=40, pady=20)\n",
    "# 显示答案解析的Label组件\n",
    "re = Label(win, font=\"14\", height=\"10\", width=\"40\", justify=\"left\",wraplength=320)\n",
    "re.pack(side=TOP, pady=10)\n",
    "win.mainloop()\n",
    "\n",
    "ws = wb[sheetname]\n",
    "maxrows = ws.max_row\n",
    "print('maxrows',maxrows)\n",
    "wb.close()\n",
    "\n"
   ]
  },
  {
   "cell_type": "code",
   "execution_count": null,
   "id": "dccb0c99-1835-412c-83e6-a49949bb43ca",
   "metadata": {},
   "outputs": [],
   "source": []
  }
 ],
 "metadata": {
  "kernelspec": {
   "display_name": "Python 3 (ipykernel)",
   "language": "python",
   "name": "python3"
  },
  "language_info": {
   "codemirror_mode": {
    "name": "ipython",
    "version": 3
   },
   "file_extension": ".py",
   "mimetype": "text/x-python",
   "name": "python",
   "nbconvert_exporter": "python",
   "pygments_lexer": "ipython3",
   "version": "3.11.5"
  }
 },
 "nbformat": 4,
 "nbformat_minor": 5
}
