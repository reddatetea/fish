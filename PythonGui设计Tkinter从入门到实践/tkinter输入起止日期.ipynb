{
 "cells": [
  {
   "cell_type": "code",
   "execution_count": null,
   "id": "65917bab-a8d2-4524-b0c2-6a7099f3e71a",
   "metadata": {},
   "outputs": [],
   "source": [
    "from tkinter import *\n",
    "import pandas as pd\n",
    "win = Tk()\n",
    "win.title('请输入日期，格式如\"2023-1-12\"')\n",
    "\n",
    "label1 = Label(win,text='开始日期',font=14)\n",
    "label1.grid(pady=10,row=0,column=0)\n",
    "text_var = StringVar()\n",
    "text1 = Entry(win, width=50, textvariable=text_var)\n",
    "text1.grid(row=0,column=1)\n",
    "\n",
    "label2 = Label(win,text='结束日期',font=14)\n",
    "label2.grid(pady=10,row=2,column=0)\n",
    "text_var = StringVar()\n",
    "text2 = Entry(win, width=50, textvariable=text_var)\n",
    "text2.grid(row=2,column=1)\n",
    "\n",
    "def submit():\n",
    "    global start_riqi\n",
    "    global end_riqi\n",
    "    start_riqi = pd.Timestamp(text1.get())\n",
    "    end_riqi = pd.Timestamp(text1.get())\n",
    "   \n",
    "Button(win,text=\"确定起止日期\",command=submit).grid(row=5,column=0)\n",
    "\n",
    "win.mainloop()\n",
    "print(start_riqi,end_riqi)"
   ]
  },
  {
   "cell_type": "code",
   "execution_count": null,
   "id": "cc272d1e-3995-4bee-b192-7bdaab7a2332",
   "metadata": {},
   "outputs": [],
   "source": []
  }
 ],
 "metadata": {
  "kernelspec": {
   "display_name": "Python 3 (ipykernel)",
   "language": "python",
   "name": "python3"
  },
  "language_info": {
   "codemirror_mode": {
    "name": "ipython",
    "version": 3
   },
   "file_extension": ".py",
   "mimetype": "text/x-python",
   "name": "python",
   "nbconvert_exporter": "python",
   "pygments_lexer": "ipython3",
   "version": "3.12.1"
  }
 },
 "nbformat": 4,
 "nbformat_minor": 5
}
