{
 "cells": [
  {
   "cell_type": "code",
   "execution_count": 1,
   "id": "c146f8f2-9d74-4789-91bd-cdfd4a44dd46",
   "metadata": {},
   "outputs": [],
   "source": [
    "from tkinter import *\n",
    "from tkinter.ttk import *\n",
    "win = Tk()\n",
    "Progressbar(win,value = 50).pack(pady=10)\n",
    "win.mainloop()"
   ]
  },
  {
   "cell_type": "code",
   "execution_count": 4,
   "id": "2f9ded39-b46d-404a-8528-c55f9cb5b2b7",
   "metadata": {},
   "outputs": [],
   "source": [
    "from tkinter import *\n",
    "from tkinter.ttk import *\n",
    "\n",
    "val = 0\n",
    "def add1(c):\n",
    "    global val\n",
    "    val += c\n",
    "    # 判断进度条的当前值是否到达最大值\n",
    "    if val > pro[\"max\"]:\n",
    "        label.config(text=\"我吃饱了\")\n",
    "    else:\n",
    "        vari.set(val)\n",
    "win = Tk()\n",
    "win.geometry(\"220x190\")\n",
    "Label(win, text=\"投食：\").grid(row=0, column=0, columnspan=1)\n",
    "# 选择投食大鱼或者小鱼，大鱼增加2点，小鱼增加1点\n",
    "Button(win, text=\"大鱼\", command=lambda: add1(2)).grid(row=0, column=1,  pady=10)\n",
    "Button(win, text=\"小鱼\", command=lambda: add1(1)).grid(row=0, column=2, pady=10)\n",
    "img=PhotoImage(file=\"cat.png\")          #  小猫\n",
    "label=Label(win,image=img,compound=TOP,foreground=\"red\")\n",
    "label.grid(row=1, column=0, columnspan=4)\n",
    "vari=IntVar()  #绑定到进度条的当前值\n",
    "vari.set(0)\n",
    "# 进度条显示小猫饱腹程度\n",
    "pro = Progressbar(win, mode=\"determinate\", variable=vari, max=50, length=200)\n",
    "pro.grid(row=2, column=0, columnspan=4, pady=5)\n",
    "win.mainloop()"
   ]
  },
  {
   "cell_type": "code",
   "execution_count": null,
   "id": "823e1c79-0c5c-4057-abdd-e4deae9a7c68",
   "metadata": {},
   "outputs": [],
   "source": []
  }
 ],
 "metadata": {
  "kernelspec": {
   "display_name": "Python 3 (ipykernel)",
   "language": "python",
   "name": "python3"
  },
  "language_info": {
   "codemirror_mode": {
    "name": "ipython",
    "version": 3
   },
   "file_extension": ".py",
   "mimetype": "text/x-python",
   "name": "python",
   "nbconvert_exporter": "python",
   "pygments_lexer": "ipython3",
   "version": "3.11.5"
  }
 },
 "nbformat": 4,
 "nbformat_minor": 5
}
