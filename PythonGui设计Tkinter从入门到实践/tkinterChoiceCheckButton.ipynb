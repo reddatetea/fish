{
 "cells": [
  {
   "cell_type": "code",
   "execution_count": null,
   "id": "f41de178-5858-43c2-95a8-66adf78ecef2",
   "metadata": {},
   "outputs": [],
   "source": [
    "from tkinter import *\n",
    " \n",
    "top = Tk()\n",
    "CheckVar1 = IntVar()\n",
    "CheckVar2 = IntVar()\n",
    "C1 = Checkbutton(top, text = \"RUNOOB\", variable = CheckVar1, \\\n",
    "                 onvalue = 1, offvalue = 0, height=5, \\\n",
    "                 width = 20)\n",
    "C2 = Checkbutton(top, text = \"GOOGLE\", variable = CheckVar2, \\\n",
    "                 onvalue = 1, offvalue = 0, height=5, \\\n",
    "                 width = 20)\n",
    "choices =[]\n",
    "def result1():\n",
    "    # re.delete(\"0.0\",END)\n",
    "  \n",
    "    \n",
    "    if CheckVar1.get() == 1:\n",
    "        choices.append(\"RUNOOB\")  \n",
    "    if  CheckVar2.get() == 1:\n",
    "        choices.append(\"GOOGLE\")\n",
    "\n",
    "C1.pack()\n",
    "C2.pack()\n",
    "button = Button(top, text=\"确定\", command=result1, font=\"14\", bg=\"#4CC6E3\")\n",
    "button.pack(side=TOP, fill=X, padx=40, pady=20)\n",
    "top.mainloop()\n",
    "print(choices)"
   ]
  },
  {
   "cell_type": "code",
   "execution_count": 7,
   "id": "a3da51ec-14d7-4208-a47c-7240ff153797",
   "metadata": {},
   "outputs": [
    {
     "name": "stdout",
     "output_type": "stream",
     "text": [
      "[<tkinter.IntVar object at 0x00000259822F8200>, <tkinter.IntVar object at 0x000002598229AB40>, <tkinter.IntVar object at 0x000002598229AFF0>, <tkinter.IntVar object at 0x000002598229A3C0>]\n",
      "0\n",
      "0\n",
      "0\n",
      "0\n",
      "selected ['perl', 'C']\n",
      "1\n",
      "2\n",
      "0\n",
      "0\n",
      "1\n",
      "2\n",
      "0\n",
      "0\n"
     ]
    }
   ],
   "source": [
    "from tkinter import *\n",
    "\n",
    "root = Tk()\n",
    "\n",
    "items = {'python': 1, 'perl': 2, 'C': 3, 'R': 4}\n",
    "vars = []\n",
    "for i in range(len(items)):\n",
    "    vars.append(IntVar())\n",
    "print(vars)\n",
    "for var in vars:\n",
    "    print(var.get())\n",
    "for key, value in items.items():\n",
    "    Checkbutton(root, text=key, onvalue=value, variable=vars[list(items.keys()).index(key)]).grid(sticky=W)\n",
    "\n",
    "\n",
    "def show():\n",
    "    global selected\n",
    "    selected = []\n",
    "    for new_var in vars:\n",
    "        print(new_var.get())\n",
    "        selected.append(new_var)\n",
    "\n",
    "\n",
    "print('selected',selected)\n",
    "Button(root, text='Show', command=show).grid(sticky=W)\n",
    "\n",
    "root.mainloop()\n"
   ]
  },
  {
   "cell_type": "code",
   "execution_count": null,
   "id": "1e192c7e-cfc6-441a-a31a-f255fc2b5dd0",
   "metadata": {},
   "outputs": [],
   "source": [
    "import tkinter as tk\n",
    "from tkinter import ttk\n",
    " \n",
    "def get_selected():\n",
    "    selected = []\n",
    "    \n",
    "    if var1.get() == True:\n",
    "        selected.append(\"Option 1\")\n",
    "        \n",
    "    if var2.get() == True:\n",
    "        selected.append(\"Option 2\")\n",
    "        \n",
    "    if var3.get() == True:\n",
    "        selected.append(\"Option 3\")\n",
    "        \n",
    "    print(selected)\n",
    " \n",
    "root = tk.Tk()\n",
    "var1 = tk.BooleanVar()\n",
    "var2 = tk.BooleanVar()\n",
    "var3 = tk.BooleanVar()\n",
    " \n",
    "checkbtn1 = ttk.Checkbutton(root, text=\"Option 1\", variable=var1)\n",
    "checkbtn2 = ttk.Checkbutton(root, text=\"Option 2\", variable=var2)\n",
    "checkbtn3 = ttk.Checkbutton(root, text=\"Option 3\", variable=var3)\n",
    " \n",
    "checkbtn1.pack()\n",
    "checkbtn2.pack()\n",
    "checkbtn3.pack()\n",
    " \n",
    "submitBtn = ttk.Button(root, text=\"Submit\", command=get_selected)\n",
    "submitBtn.pack()\n",
    " \n",
    "root.mainloop()"
   ]
  },
  {
   "cell_type": "code",
   "execution_count": 9,
   "id": "93cd2850-7f37-4089-8dd7-012a1187de7b",
   "metadata": {},
   "outputs": [
    {
     "name": "stdout",
     "output_type": "stream",
     "text": [
      "vars [<tkinter.IntVar object at 0x000002598229A180>, <tkinter.IntVar object at 0x00000259825EA090>, <tkinter.IntVar object at 0x00000259825EBA10>, <tkinter.IntVar object at 0x00000259825E8EF0>]\n",
      "selected []\n"
     ]
    }
   ],
   "source": [
    "from tkinter import *\n",
    "root = Tk()\n",
    "\n",
    "items = ['python', 'perl', 'C', 'R']\n",
    "vars = []\n",
    "for i in range(len(items)):\n",
    "    vars.append(IntVar())\n",
    "    \n",
    "print('vars',vars)\n",
    "selected = []\n",
    "for i in range(len(items)):\n",
    "    Checkbutton(root, text=items[i], onvalue=1, variable=vars[i]).grid(sticky=W)\n",
    "\n",
    "def show():\n",
    "    #global selected\n",
    "    #selected = []\n",
    "    for i in range(len(vars)):\n",
    "        if vars[i].get() == 1:\n",
    "            selected.append(items[i])\n",
    "    \n",
    "    \n",
    "Button(root, text='Show', command=show).grid(sticky=W)\n",
    "print('selected',selected)\n",
    "root.mainloop()\n",
    "\n"
   ]
  },
  {
   "cell_type": "code",
   "execution_count": 8,
   "id": "0f43dd80-8950-4d06-a492-b0cee178b6f3",
   "metadata": {},
   "outputs": [
    {
     "name": "stdout",
     "output_type": "stream",
     "text": [
      "['Option 2', 'Option 3']\n"
     ]
    }
   ],
   "source": [
    "import tkinter as tk\n",
    "from tkinter import ttk\n",
    " \n",
    "def get_selected():\n",
    "    selected = []\n",
    "    \n",
    "    if var1.get() == True:\n",
    "        selected.append(\"Option 1\")\n",
    "        \n",
    "    if var2.get() == True:\n",
    "        selected.append(\"Option 2\")\n",
    "        \n",
    "    if var3.get() == True:\n",
    "        selected.append(\"Option 3\")\n",
    "        \n",
    "    print(selected)\n",
    " \n",
    "root = tk.Tk()\n",
    "var1 = tk.BooleanVar()\n",
    "var2 = tk.BooleanVar()\n",
    "var3 = tk.BooleanVar()\n",
    " \n",
    "checkbtn1 = ttk.Checkbutton(root, text=\"Option 1\", variable=var1)\n",
    "checkbtn2 = ttk.Checkbutton(root, text=\"Option 2\", variable=var2)\n",
    "checkbtn3 = ttk.Checkbutton(root, text=\"Option 3\", variable=var3)\n",
    " \n",
    "checkbtn1.pack()\n",
    "checkbtn2.pack()\n",
    "checkbtn3.pack()\n",
    " \n",
    "submitBtn = ttk.Button(root, text=\"Submit\", command=get_selected)\n",
    "submitBtn.pack()\n",
    " \n",
    "root.mainloop()"
   ]
  },
  {
   "cell_type": "code",
   "execution_count": 12,
   "id": "c131e8c4-78e6-444a-8081-e0758f659d9e",
   "metadata": {},
   "outputs": [],
   "source": [
    "for i in range(5):\n",
    "    exec(f'x{i}={i}')\n",
    "\n"
   ]
  },
  {
   "cell_type": "code",
   "execution_count": 13,
   "id": "47de7af1-4034-460b-bc5c-951a4d33cfc3",
   "metadata": {},
   "outputs": [
    {
     "data": {
      "text/plain": [
       "1"
      ]
     },
     "execution_count": 13,
     "metadata": {},
     "output_type": "execute_result"
    }
   ],
   "source": [
    "x1"
   ]
  },
  {
   "cell_type": "code",
   "execution_count": 14,
   "id": "0c42ef5b-6bfd-4a6c-957a-7ac41da64b2a",
   "metadata": {},
   "outputs": [
    {
     "data": {
      "text/plain": [
       "2"
      ]
     },
     "execution_count": 14,
     "metadata": {},
     "output_type": "execute_result"
    }
   ],
   "source": [
    "x2"
   ]
  },
  {
   "cell_type": "code",
   "execution_count": null,
   "id": "a70efb7a-9d92-4d54-bde1-6101e0d4e8cd",
   "metadata": {},
   "outputs": [],
   "source": []
  }
 ],
 "metadata": {
  "kernelspec": {
   "display_name": "Python 3 (ipykernel)",
   "language": "python",
   "name": "python3"
  },
  "language_info": {
   "codemirror_mode": {
    "name": "ipython",
    "version": 3
   },
   "file_extension": ".py",
   "mimetype": "text/x-python",
   "name": "python",
   "nbconvert_exporter": "python",
   "pygments_lexer": "ipython3",
   "version": "3.11.5"
  }
 },
 "nbformat": 4,
 "nbformat_minor": 5
}
