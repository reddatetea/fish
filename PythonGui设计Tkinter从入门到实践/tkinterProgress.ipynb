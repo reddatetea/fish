{
 "cells": [
  {
   "cell_type": "code",
   "execution_count": 3,
   "id": "26cfe4d3-64a3-4e38-aaf8-450486a68c0b",
   "metadata": {},
   "outputs": [],
   "source": [
    "from tkinter import *\n",
    "from tkinter.ttk import *\n",
    "win = Tk()\n",
    "Progressbar(win,value=60).pack(pady=10)\n",
    "win.mainloop()"
   ]
  },
  {
   "cell_type": "code",
   "execution_count": 7,
   "id": "f722cbda-66d4-4428-8dd9-b83959e479fe",
   "metadata": {},
   "outputs": [],
   "source": [
    "from tkinter import *\n",
    "from tkinter.ttk import *\n",
    "\n",
    "val = 0\n",
    "def add1(c):\n",
    "    global val\n",
    "    val += c\n",
    "    # 判断进度条的当前值是否到达最大值\n",
    "    if val > pro[\"max\"]:\n",
    "        label.config(text=\"我吃饱了\")\n",
    "    else:\n",
    "        vari.set(val)\n",
    "win = Tk()\n",
    "win.geometry(\"220x190\")\n",
    "Label(win, text=\"投食：\").grid(row=0, column=0, columnspan=1)\n",
    "# 选择投食大鱼或者小鱼，大鱼增加2点，小鱼增加1点\n",
    "Button(win, text=\"大鱼\", command=lambda: add1(2)).grid(row=0, column=1,  pady=10)\n",
    "Button(win, text=\"小鱼\", command=lambda: add1(1)).grid(row=0, column=2, pady=10)\n",
    "img=PhotoImage(file=\"cat.png\")          #  小猫\n",
    "label=Label(win,image=img,compound=TOP,foreground=\"red\")\n",
    "label.grid(row=1, column=0, columnspan=4)\n",
    "vari=IntVar()  #绑定到进度条的当前值\n",
    "vari.set(0)\n",
    "# 进度条显示小猫饱腹程度\n",
    "pro = Progressbar(win, mode=\"determinate\", variable=vari, max=50, length=200)\n",
    "pro.grid(row=2, column=0, columnspan=4, pady=5)\n",
    "win.mainloop()"
   ]
  },
  {
   "cell_type": "code",
   "execution_count": 8,
   "id": "13f35bf4-c08a-4d49-9dec-b91a2e7359c7",
   "metadata": {},
   "outputs": [],
   "source": [
    "def rego():\n",
    "    pro.stop()   #停止原进度条动画\n",
    "    pro.step(5)  #设置步进值\n",
    "    pro.start()  #开始加载动画\n",
    "\n",
    "from tkinter import *\n",
    "from tkinter.ttk import *\n",
    "\n",
    "win = Tk()\n",
    "win.title(\"灵魂画师\")\n",
    "# 游戏图标与名称\n",
    "img = PhotoImage(file=\"game.png\")\n",
    "label=Label(win, image=img,text=\"灵魂画师\", foreground=\"red\", font=(\"华文新魏\", 18),compound=BOTTOM)\n",
    "label.grid(row=1, column=0, columnspan=3)\n",
    "pro = Progressbar(win, mode=\"indeterminate\", value=0, max=100, length=100)\n",
    "pro.grid(row=2, column=0, columnspan=3,pady=10)\n",
    "# 单击时，开始进度条动画\n",
    "Button(win, text=\"进入游戏\", command=pro.start, width=7).grid(row=4, column=0, padx=5)\n",
    "#设置进度条每次递增的值，并进行加载动画\n",
    "Button(win, text=\"游戏加速\", command=rego, width=7).grid(row=4, column=1, padx=5)\n",
    "# 停止进度条动画\n",
    "Button(win, text=\"停止加载\", command=pro.stop, width=7).grid(row=4, column=2, padx=5)\n",
    "\n",
    "win.mainloop()"
   ]
  },
  {
   "cell_type": "code",
   "execution_count": 9,
   "id": "8dc2b84f-e2b6-49fc-828c-50f6161184ee",
   "metadata": {},
   "outputs": [],
   "source": [
    "from tkinter import *\n",
    "from tkinter.ttk import *\n",
    "win = Tk()\n",
    "win.title(\"灵魂画师\")\n",
    "win.geometry(\"250x230\")\n",
    "# 添加游戏名称并应用样式\n",
    "img = PhotoImage(file=\"game.png\")\n",
    "Label(win,image=img,text=\"灵魂画师\",foreground=\"red\",font=(\"华文新魏\", 18),compound=BOTTOM).pack(pady=5)\n",
    "pro = Progressbar(win, mode=\"indeterminate\", value=0, max=100, length=200)\n",
    "pro.pack(pady=10)\n",
    "Button(win, text=\"进入游戏\", command=pro.start(40), width=7).pack()\n",
    "win.mainloop()"
   ]
  },
  {
   "cell_type": "code",
   "execution_count": null,
   "id": "54a64481-02cd-4ffe-aa5a-f7ca68083784",
   "metadata": {},
   "outputs": [],
   "source": []
  }
 ],
 "metadata": {
  "kernelspec": {
   "display_name": "Python 3 (ipykernel)",
   "language": "python",
   "name": "python3"
  },
  "language_info": {
   "codemirror_mode": {
    "name": "ipython",
    "version": 3
   },
   "file_extension": ".py",
   "mimetype": "text/x-python",
   "name": "python",
   "nbconvert_exporter": "python",
   "pygments_lexer": "ipython3",
   "version": "3.11.5"
  }
 },
 "nbformat": 4,
 "nbformat_minor": 5
}
