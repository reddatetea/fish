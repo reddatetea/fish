{
 "cells": [
  {
   "cell_type": "code",
   "execution_count": 3,
   "metadata": {},
   "outputs": [
    {
     "name": "stdout",
     "output_type": "stream",
     "text": [
      "['123.txt', '20200520注册表备份.reg', 'Anaconda Prompt (Anaconda3).lnk', 'asus.lnk', 'dal.lnk', 'desktop.ini', 'Kindle.lnk', 'My Kindle Content - 快捷方式.lnk', 'normal video.mp4', 'OperaPrint.pdf', 'pdf88.xls', 'ps.lnk', 'py38.lnk', 'Python学习笔记-王纯业（扫描带详细目录）.pdf', 'Thumbs.db', 'u=1745959404,1511076992&fm=26&gp=0.jpg', 'zhigongyingshang-版本16.py', '~$ Microsoft Word 文档.docx', '【乐高乒乓】2017年杜塞尔多夫世乒赛 男单决赛 马龙vs樊振东 决胜局关键分.mp4 - 快捷方式.lnk', '世乒赛战绩-版本1.xlsx', '五年级秋季培优.lnk', '五年级语数外.lnk', '优酷.lnk', '搜索.lnk', '新建 Microsoft Word 文档.docx', '晴川倒入SUN的总人数.xlsx', '晴川跨地区营业收入表cross_outlet_revenue.xls', '晴川跨地区营业收入表cross_outlet_revenue.xlsx', '极度扫描.lnk', '笔记截屏', '笔记本20201130硬件参数.png', '笔记本评测20201204.PNG', '美食.xlsx', '腾讯影视库.lnk', '酷狗音乐.lnk']\n"
     ]
    }
   ],
   "source": [
    "import winreg\n",
    "import os\n",
    "def get_desktop():  \n",
    "    key = winreg.OpenKey(winreg.HKEY_CURRENT_USER,r'Software\\Microsoft\\Windows\\CurrentVersion\\Explorer\\Shell Folders')  \n",
    "    return winreg.QueryValueEx(key, \"Desktop\")[0]\n",
    "path = get_desktop()\n",
    "files = os.listdir(path)\n",
    "print(files)"
   ]
  },
  {
   "cell_type": "code",
   "execution_count": null,
   "metadata": {},
   "outputs": [],
   "source": []
  }
 ],
 "metadata": {
  "kernelspec": {
   "display_name": "Python 3",
   "language": "python",
   "name": "python3"
  },
  "language_info": {
   "codemirror_mode": {
    "name": "ipython",
    "version": 3
   },
   "file_extension": ".py",
   "mimetype": "text/x-python",
   "name": "python",
   "nbconvert_exporter": "python",
   "pygments_lexer": "ipython3",
   "version": "3.7.1"
  }
 },
 "nbformat": 4,
 "nbformat_minor": 2
}
